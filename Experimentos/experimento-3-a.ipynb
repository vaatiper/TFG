{
  "nbformat": 4,
  "nbformat_minor": 0,
  "metadata": {
    "colab": {
      "provenance": []
    },
    "kernelspec": {
      "name": "python3",
      "display_name": "Python 3"
    },
    "language_info": {
      "name": "python"
    }
  },
  "cells": [
    {
      "cell_type": "markdown",
      "source": [
        "Este cuaderno no corresponde a una experimentación, si no a una visualización del modelo que se requeriría en este experimento y que a día de hoy SciANN no soporta."
      ],
      "metadata": {
        "id": "FhRMWdJXqx2U"
      }
    },
    {
      "cell_type": "code",
      "source": [
        "%pip uninstall tensorflow tensorflow-datasets tensorflow-metadata tf-keras tensorflow-hub tensorboard google-auth-oauthlib protobuf -y #pandas-gbq grpc-google-iam-v1 googleapis-common-protos google-cloud-pubsub -y\n",
        "%pip install google-auth-oauthlib==0.7.0\n",
        "%pip install protobuf==4.25.0"
      ],
      "metadata": {
        "colab": {
          "base_uri": "https://localhost:8080/"
        },
        "id": "7NijbMsGpYis",
        "outputId": "41693463-c4b5-43b1-b1f9-0beb1cd0e9c9"
      },
      "execution_count": null,
      "outputs": [
        {
          "output_type": "stream",
          "name": "stdout",
          "text": [
            "Found existing installation: tensorflow 2.15.0\n",
            "Uninstalling tensorflow-2.15.0:\n",
            "  Successfully uninstalled tensorflow-2.15.0\n",
            "Found existing installation: tensorflow-datasets 4.9.6\n",
            "Uninstalling tensorflow-datasets-4.9.6:\n",
            "  Successfully uninstalled tensorflow-datasets-4.9.6\n",
            "Found existing installation: tensorflow-metadata 1.15.0\n",
            "Uninstalling tensorflow-metadata-1.15.0:\n",
            "  Successfully uninstalled tensorflow-metadata-1.15.0\n",
            "Found existing installation: tf_keras 2.15.1\n",
            "Uninstalling tf_keras-2.15.1:\n",
            "  Successfully uninstalled tf_keras-2.15.1\n",
            "Found existing installation: tensorflow-hub 0.16.1\n",
            "Uninstalling tensorflow-hub-0.16.1:\n",
            "  Successfully uninstalled tensorflow-hub-0.16.1\n",
            "Found existing installation: tensorboard 2.15.2\n",
            "Uninstalling tensorboard-2.15.2:\n",
            "  Successfully uninstalled tensorboard-2.15.2\n",
            "Found existing installation: google-auth-oauthlib 1.2.1\n",
            "Uninstalling google-auth-oauthlib-1.2.1:\n",
            "  Successfully uninstalled google-auth-oauthlib-1.2.1\n",
            "Found existing installation: protobuf 3.20.3\n",
            "Uninstalling protobuf-3.20.3:\n",
            "  Successfully uninstalled protobuf-3.20.3\n",
            "Collecting google-auth-oauthlib==0.7.0\n",
            "  Downloading google_auth_oauthlib-0.7.0-py2.py3-none-any.whl (19 kB)\n",
            "Requirement already satisfied: google-auth>=2.13.0 in /usr/local/lib/python3.10/dist-packages (from google-auth-oauthlib==0.7.0) (2.27.0)\n",
            "Requirement already satisfied: requests-oauthlib>=0.7.0 in /usr/local/lib/python3.10/dist-packages (from google-auth-oauthlib==0.7.0) (1.3.1)\n",
            "Requirement already satisfied: cachetools<6.0,>=2.0.0 in /usr/local/lib/python3.10/dist-packages (from google-auth>=2.13.0->google-auth-oauthlib==0.7.0) (5.3.3)\n",
            "Requirement already satisfied: pyasn1-modules>=0.2.1 in /usr/local/lib/python3.10/dist-packages (from google-auth>=2.13.0->google-auth-oauthlib==0.7.0) (0.4.0)\n",
            "Requirement already satisfied: rsa<5,>=3.1.4 in /usr/local/lib/python3.10/dist-packages (from google-auth>=2.13.0->google-auth-oauthlib==0.7.0) (4.9)\n",
            "Requirement already satisfied: oauthlib>=3.0.0 in /usr/local/lib/python3.10/dist-packages (from requests-oauthlib>=0.7.0->google-auth-oauthlib==0.7.0) (3.2.2)\n",
            "Requirement already satisfied: requests>=2.0.0 in /usr/local/lib/python3.10/dist-packages (from requests-oauthlib>=0.7.0->google-auth-oauthlib==0.7.0) (2.31.0)\n",
            "Requirement already satisfied: pyasn1<0.7.0,>=0.4.6 in /usr/local/lib/python3.10/dist-packages (from pyasn1-modules>=0.2.1->google-auth>=2.13.0->google-auth-oauthlib==0.7.0) (0.6.0)\n",
            "Requirement already satisfied: charset-normalizer<4,>=2 in /usr/local/lib/python3.10/dist-packages (from requests>=2.0.0->requests-oauthlib>=0.7.0->google-auth-oauthlib==0.7.0) (3.3.2)\n",
            "Requirement already satisfied: idna<4,>=2.5 in /usr/local/lib/python3.10/dist-packages (from requests>=2.0.0->requests-oauthlib>=0.7.0->google-auth-oauthlib==0.7.0) (3.7)\n",
            "Requirement already satisfied: urllib3<3,>=1.21.1 in /usr/local/lib/python3.10/dist-packages (from requests>=2.0.0->requests-oauthlib>=0.7.0->google-auth-oauthlib==0.7.0) (2.0.7)\n",
            "Requirement already satisfied: certifi>=2017.4.17 in /usr/local/lib/python3.10/dist-packages (from requests>=2.0.0->requests-oauthlib>=0.7.0->google-auth-oauthlib==0.7.0) (2024.7.4)\n",
            "Installing collected packages: google-auth-oauthlib\n",
            "Successfully installed google-auth-oauthlib-0.7.0\n",
            "Collecting protobuf==4.25.0\n",
            "  Downloading protobuf-4.25.0-cp37-abi3-manylinux2014_x86_64.whl (294 kB)\n",
            "\u001b[2K     \u001b[90m━━━━━━━━━━━━━━━━━━━━━━━━━━━━━━━━━━━━━━━━\u001b[0m \u001b[32m294.4/294.4 kB\u001b[0m \u001b[31m5.3 MB/s\u001b[0m eta \u001b[36m0:00:00\u001b[0m\n",
            "\u001b[?25hInstalling collected packages: protobuf\n",
            "Successfully installed protobuf-4.25.0\n"
          ]
        }
      ]
    },
    {
      "cell_type": "code",
      "execution_count": null,
      "metadata": {
        "colab": {
          "base_uri": "https://localhost:8080/"
        },
        "id": "THm3NSkqLbW1",
        "outputId": "c9eac33f-cd75-4358-e4e4-0eef36e7a842"
      },
      "outputs": [
        {
          "output_type": "stream",
          "name": "stdout",
          "text": [
            "\u001b[33mWARNING: Skipping tensorflow-datasets as it is not installed.\u001b[0m\u001b[33m\n",
            "\u001b[0m\u001b[33mWARNING: Skipping tensorflow-metadata as it is not installed.\u001b[0m\u001b[33m\n",
            "\u001b[0mRequirement already satisfied: tensorflow==2.9 in /usr/local/lib/python3.10/dist-packages (2.9.0)\n",
            "Requirement already satisfied: absl-py>=1.0.0 in /usr/local/lib/python3.10/dist-packages (from tensorflow==2.9) (1.4.0)\n",
            "Requirement already satisfied: astunparse>=1.6.0 in /usr/local/lib/python3.10/dist-packages (from tensorflow==2.9) (1.6.3)\n",
            "Requirement already satisfied: flatbuffers<2,>=1.12 in /usr/local/lib/python3.10/dist-packages (from tensorflow==2.9) (1.12)\n",
            "Requirement already satisfied: gast<=0.4.0,>=0.2.1 in /usr/local/lib/python3.10/dist-packages (from tensorflow==2.9) (0.4.0)\n",
            "Requirement already satisfied: google-pasta>=0.1.1 in /usr/local/lib/python3.10/dist-packages (from tensorflow==2.9) (0.2.0)\n",
            "Requirement already satisfied: grpcio<2.0,>=1.24.3 in /usr/local/lib/python3.10/dist-packages (from tensorflow==2.9) (1.64.1)\n",
            "Requirement already satisfied: h5py>=2.9.0 in /usr/local/lib/python3.10/dist-packages (from tensorflow==2.9) (3.9.0)\n",
            "Requirement already satisfied: keras<2.10.0,>=2.9.0rc0 in /usr/local/lib/python3.10/dist-packages (from tensorflow==2.9) (2.9.0)\n",
            "Requirement already satisfied: keras-preprocessing>=1.1.1 in /usr/local/lib/python3.10/dist-packages (from tensorflow==2.9) (1.1.2)\n",
            "Requirement already satisfied: libclang>=13.0.0 in /usr/local/lib/python3.10/dist-packages (from tensorflow==2.9) (18.1.1)\n",
            "Requirement already satisfied: numpy>=1.20 in /usr/local/lib/python3.10/dist-packages (from tensorflow==2.9) (1.25.2)\n",
            "Requirement already satisfied: opt-einsum>=2.3.2 in /usr/local/lib/python3.10/dist-packages (from tensorflow==2.9) (3.3.0)\n",
            "Requirement already satisfied: packaging in /usr/local/lib/python3.10/dist-packages (from tensorflow==2.9) (24.1)\n",
            "Requirement already satisfied: protobuf>=3.9.2 in /usr/local/lib/python3.10/dist-packages (from tensorflow==2.9) (3.19.6)\n",
            "Requirement already satisfied: setuptools in /usr/local/lib/python3.10/dist-packages (from tensorflow==2.9) (67.7.2)\n",
            "Requirement already satisfied: six>=1.12.0 in /usr/local/lib/python3.10/dist-packages (from tensorflow==2.9) (1.16.0)\n",
            "Requirement already satisfied: tensorboard<2.10,>=2.9 in /usr/local/lib/python3.10/dist-packages (from tensorflow==2.9) (2.9.1)\n",
            "Requirement already satisfied: tensorflow-io-gcs-filesystem>=0.23.1 in /usr/local/lib/python3.10/dist-packages (from tensorflow==2.9) (0.37.1)\n",
            "Requirement already satisfied: tensorflow-estimator<2.10.0,>=2.9.0rc0 in /usr/local/lib/python3.10/dist-packages (from tensorflow==2.9) (2.9.0)\n",
            "Requirement already satisfied: termcolor>=1.1.0 in /usr/local/lib/python3.10/dist-packages (from tensorflow==2.9) (2.4.0)\n",
            "Requirement already satisfied: typing-extensions>=3.6.6 in /usr/local/lib/python3.10/dist-packages (from tensorflow==2.9) (4.12.2)\n",
            "Requirement already satisfied: wrapt>=1.11.0 in /usr/local/lib/python3.10/dist-packages (from tensorflow==2.9) (1.14.1)\n",
            "Requirement already satisfied: wheel<1.0,>=0.23.0 in /usr/local/lib/python3.10/dist-packages (from astunparse>=1.6.0->tensorflow==2.9) (0.43.0)\n",
            "Requirement already satisfied: google-auth<3,>=1.6.3 in /usr/local/lib/python3.10/dist-packages (from tensorboard<2.10,>=2.9->tensorflow==2.9) (2.27.0)\n",
            "Requirement already satisfied: google-auth-oauthlib<0.5,>=0.4.1 in /usr/local/lib/python3.10/dist-packages (from tensorboard<2.10,>=2.9->tensorflow==2.9) (0.4.6)\n",
            "Requirement already satisfied: markdown>=2.6.8 in /usr/local/lib/python3.10/dist-packages (from tensorboard<2.10,>=2.9->tensorflow==2.9) (3.6)\n",
            "Requirement already satisfied: requests<3,>=2.21.0 in /usr/local/lib/python3.10/dist-packages (from tensorboard<2.10,>=2.9->tensorflow==2.9) (2.31.0)\n",
            "Requirement already satisfied: tensorboard-data-server<0.7.0,>=0.6.0 in /usr/local/lib/python3.10/dist-packages (from tensorboard<2.10,>=2.9->tensorflow==2.9) (0.6.1)\n",
            "Requirement already satisfied: tensorboard-plugin-wit>=1.6.0 in /usr/local/lib/python3.10/dist-packages (from tensorboard<2.10,>=2.9->tensorflow==2.9) (1.8.1)\n",
            "Requirement already satisfied: werkzeug>=1.0.1 in /usr/local/lib/python3.10/dist-packages (from tensorboard<2.10,>=2.9->tensorflow==2.9) (3.0.3)\n",
            "Requirement already satisfied: cachetools<6.0,>=2.0.0 in /usr/local/lib/python3.10/dist-packages (from google-auth<3,>=1.6.3->tensorboard<2.10,>=2.9->tensorflow==2.9) (5.3.3)\n",
            "Requirement already satisfied: pyasn1-modules>=0.2.1 in /usr/local/lib/python3.10/dist-packages (from google-auth<3,>=1.6.3->tensorboard<2.10,>=2.9->tensorflow==2.9) (0.4.0)\n",
            "Requirement already satisfied: rsa<5,>=3.1.4 in /usr/local/lib/python3.10/dist-packages (from google-auth<3,>=1.6.3->tensorboard<2.10,>=2.9->tensorflow==2.9) (4.9)\n",
            "Requirement already satisfied: requests-oauthlib>=0.7.0 in /usr/local/lib/python3.10/dist-packages (from google-auth-oauthlib<0.5,>=0.4.1->tensorboard<2.10,>=2.9->tensorflow==2.9) (1.3.1)\n",
            "Requirement already satisfied: charset-normalizer<4,>=2 in /usr/local/lib/python3.10/dist-packages (from requests<3,>=2.21.0->tensorboard<2.10,>=2.9->tensorflow==2.9) (3.3.2)\n",
            "Requirement already satisfied: idna<4,>=2.5 in /usr/local/lib/python3.10/dist-packages (from requests<3,>=2.21.0->tensorboard<2.10,>=2.9->tensorflow==2.9) (3.7)\n",
            "Requirement already satisfied: urllib3<3,>=1.21.1 in /usr/local/lib/python3.10/dist-packages (from requests<3,>=2.21.0->tensorboard<2.10,>=2.9->tensorflow==2.9) (2.0.7)\n",
            "Requirement already satisfied: certifi>=2017.4.17 in /usr/local/lib/python3.10/dist-packages (from requests<3,>=2.21.0->tensorboard<2.10,>=2.9->tensorflow==2.9) (2024.7.4)\n",
            "Requirement already satisfied: MarkupSafe>=2.1.1 in /usr/local/lib/python3.10/dist-packages (from werkzeug>=1.0.1->tensorboard<2.10,>=2.9->tensorflow==2.9) (2.1.5)\n",
            "Requirement already satisfied: pyasn1<0.7.0,>=0.4.6 in /usr/local/lib/python3.10/dist-packages (from pyasn1-modules>=0.2.1->google-auth<3,>=1.6.3->tensorboard<2.10,>=2.9->tensorflow==2.9) (0.6.0)\n",
            "Requirement already satisfied: oauthlib>=3.0.0 in /usr/local/lib/python3.10/dist-packages (from requests-oauthlib>=0.7.0->google-auth-oauthlib<0.5,>=0.4.1->tensorboard<2.10,>=2.9->tensorflow==2.9) (3.2.2)\n",
            "Collecting sciann\n",
            "  Using cached SciANN-0.7.0.1-py3-none-any.whl (169 kB)\n",
            "Requirement already satisfied: numpy in /usr/local/lib/python3.10/dist-packages (from sciann) (1.25.2)\n",
            "Requirement already satisfied: scipy in /usr/local/lib/python3.10/dist-packages (from sciann) (1.11.4)\n",
            "Requirement already satisfied: six in /usr/local/lib/python3.10/dist-packages (from sciann) (1.16.0)\n",
            "Requirement already satisfied: pyyaml in /usr/local/lib/python3.10/dist-packages (from sciann) (6.0.1)\n",
            "Requirement already satisfied: h5py in /usr/local/lib/python3.10/dist-packages (from sciann) (3.9.0)\n",
            "Requirement already satisfied: scikit-learn in /usr/local/lib/python3.10/dist-packages (from sciann) (1.2.2)\n",
            "Collecting pybtex (from sciann)\n",
            "  Using cached pybtex-0.24.0-py2.py3-none-any.whl (561 kB)\n",
            "Collecting latexcodec>=1.0.4 (from pybtex->sciann)\n",
            "  Using cached latexcodec-3.0.0-py3-none-any.whl (18 kB)\n",
            "Requirement already satisfied: joblib>=1.1.1 in /usr/local/lib/python3.10/dist-packages (from scikit-learn->sciann) (1.4.2)\n",
            "Requirement already satisfied: threadpoolctl>=2.0.0 in /usr/local/lib/python3.10/dist-packages (from scikit-learn->sciann) (3.5.0)\n",
            "Installing collected packages: latexcodec, pybtex, sciann\n",
            "Successfully installed latexcodec-3.0.0 pybtex-0.24.0 sciann-0.7.0.1\n"
          ]
        }
      ],
      "source": [
        "%pip uninstall tensorflow-datasets tensorflow-metadata -y\n",
        "%pip install tensorflow==2.9\n",
        "%pip install sciann"
      ]
    },
    {
      "cell_type": "code",
      "source": [
        "import numpy as np\n",
        "from sciann import Variable, Functional, SciModel\n",
        "from sciann.constraints import Data\n",
        "import sciann as sn\n",
        "import matplotlib.pyplot as plt\n",
        "from tensorflow import keras\n",
        "import time"
      ],
      "metadata": {
        "colab": {
          "base_uri": "https://localhost:8080/"
        },
        "id": "bAkdvOKFLt9i",
        "outputId": "7951dbed-f04a-4b88-9d4b-8040d1f6bb37"
      },
      "execution_count": null,
      "outputs": [
        {
          "output_type": "stream",
          "name": "stdout",
          "text": [
            "---------------------- SCIANN 0.7.0.1 ---------------------- \n",
            "For details, check out our review paper and the documentation at: \n",
            " +  \"https://www.sciencedirect.com/science/article/pii/S0045782520307374\", \n",
            " +  \"https://arxiv.org/abs/2005.08803\", \n",
            " +  \"https://www.sciann.com\". \n",
            "\n",
            " Need support or would like to contribute, please join sciann`s slack group: \n",
            " +  \"https://join.slack.com/t/sciann/shared_invite/zt-ne1f5jlx-k_dY8RGo3ZreDXwz0f~CeA\" \n",
            " \n",
            "TensorFlow Version: 2.9.0 \n",
            "Python Version: 3.10.12 (main, Mar 22 2024, 16:50:05) [GCC 11.4.0] \n",
            "\n"
          ]
        }
      ]
    },
    {
      "cell_type": "markdown",
      "source": [
        "Ejemplo simplificado para mostrar que actualmente SciANN no soporta la arquitectura requerida."
      ],
      "metadata": {
        "id": "jtviYYu_FvPf"
      }
    },
    {
      "cell_type": "code",
      "source": [
        "#Número de sensores\n",
        "m = 3\n",
        "\n",
        "#Número de neuronas por capa\n",
        "n_in_layer = 40\n",
        "\n",
        "#Definición de las entradas\n",
        "x = sn.Variable(\"x\")\n",
        "ux = [sn.Variable(f'ux{i}') for i in range(m)]\n",
        "\n",
        "\n",
        "#Definición de subredes\n",
        "subnet_branch = sn.Functional('branch_out', ux, [n_in_layer], activation='sigmoid')\n",
        "subnet_trunk = sn.Functional(\"trunk_out\",x ,[n_in_layer], 'sigmoid')\n",
        "\n",
        "#Producto cartesiano de las salidas de ambas\n",
        "s  = sn.utils.dot(subnet_branch,subnet_trunk)\n",
        "d1 = sn.Data(s)\n",
        "\n",
        "# Definimos el modelo\n",
        "modelo_operador = sn.SciModel(inputs = ux+[x], targets=[d1], loss_func='MSE',optimizer=\"adam\",plot_to_file=\"operador.png\")\n",
        "\n",
        "# Resumen del modelo\n",
        "modelo_operador.summary()"
      ],
      "metadata": {
        "colab": {
          "base_uri": "https://localhost:8080/"
        },
        "id": "fpds8zB4L0ty",
        "outputId": "81b91f58-aba5-4d4b-a81a-801573e05d26"
      },
      "execution_count": null,
      "outputs": [
        {
          "output_type": "stream",
          "name": "stdout",
          "text": [
            "Model: \"model\"\n",
            "__________________________________________________________________________________________________\n",
            " Layer (type)                   Output Shape         Param #     Connected to                     \n",
            "==================================================================================================\n",
            " ux0 (InputLayer)               [(None, 1)]          0           []                               \n",
            "                                                                                                  \n",
            " ux1 (InputLayer)               [(None, 1)]          0           []                               \n",
            "                                                                                                  \n",
            " ux2 (InputLayer)               [(None, 1)]          0           []                               \n",
            "                                                                                                  \n",
            " concat_2 (Concatenate)         (None, 3)            0           ['ux0[0][0]',                    \n",
            "                                                                  'ux1[0][0]',                    \n",
            "                                                                  'ux2[0][0]']                    \n",
            "                                                                                                  \n",
            " D40b_3 (Dense)                 (None, 40)           160         ['concat_2[0][0]']               \n",
            "                                                                                                  \n",
            " sci_activation_4 (SciActivatio  (None, 40)          0           ['D40b_3[0][0]']                 \n",
            " n)                                                                                               \n",
            "                                                                                                  \n",
            " branch_out (Field)             (None, 1)            41          ['sci_activation_4[0][0]']       \n",
            "                                                                                                  \n",
            " x (InputLayer)                 [(None, 1)]          0           []                               \n",
            "                                                                                                  \n",
            " dot (Lambda)                   (None, 1)            0           ['branch_out[0][0]']             \n",
            "                                                                                                  \n",
            "==================================================================================================\n",
            "Total params: 201\n",
            "Trainable params: 201\n",
            "Non-trainable params: 0\n",
            "__________________________________________________________________________________________________\n"
          ]
        }
      ]
    },
    {
      "cell_type": "code",
      "source": [
        "#Número de sensores\n",
        "m = 3\n",
        "\n",
        "#Número de neuronas por capa\n",
        "N = 5\n",
        "\n",
        "#Definición de las entradas\n",
        "x = sn.Variable(\"x\")\n",
        "ux = [sn.Variable(f'ux{i}') for i in range(m)]\n",
        "\n",
        "\n",
        "#Definición de subredes\n",
        "\n",
        "subnet_branches = [sn.Functional('branch_out_'+str(i), ux, [1], activation='sigmoid') for i in range(N)]\n",
        "subnet_trunk = sn.Functional(\"trunk_out\",x ,[N], 'sigmoid')\n",
        "\n",
        "#Producto cartesiano de las salidas de ambas\n",
        "probando = []\n",
        "for i in range(N):\n",
        "  probando.append(sn.utils.mul(subnet_branches[i],subnet_trunk))\n",
        "\n",
        "s = sn.utils.add(probando[0],probando[1])\n",
        "\n",
        "for i in range(2,N):\n",
        "  s = sn.utils.add(s,probando[i])\n",
        "\n",
        "d1 = sn.Data(s)\n",
        "\n",
        "# Definimos el modelo\n",
        "modelo_operador_2 = sn.SciModel(inputs = ux+[x], targets=[d1], loss_func='MSE',optimizer=\"adam\",plot_to_file=\"operador_2.png\")\n",
        "\n",
        "# Resumen del modelo\n",
        "modelo_operador.summary()"
      ],
      "metadata": {
        "colab": {
          "base_uri": "https://localhost:8080/"
        },
        "id": "j2kmowTxF6D7",
        "outputId": "7ee168f4-0ebc-49e1-d65e-020c18b2d272"
      },
      "execution_count": null,
      "outputs": [
        {
          "output_type": "stream",
          "name": "stdout",
          "text": [
            "Model: \"model\"\n",
            "__________________________________________________________________________________________________\n",
            " Layer (type)                   Output Shape         Param #     Connected to                     \n",
            "==================================================================================================\n",
            " ux0 (InputLayer)               [(None, 1)]          0           []                               \n",
            "                                                                                                  \n",
            " ux1 (InputLayer)               [(None, 1)]          0           []                               \n",
            "                                                                                                  \n",
            " ux2 (InputLayer)               [(None, 1)]          0           []                               \n",
            "                                                                                                  \n",
            " concat_2 (Concatenate)         (None, 3)            0           ['ux0[0][0]',                    \n",
            "                                                                  'ux1[0][0]',                    \n",
            "                                                                  'ux2[0][0]']                    \n",
            "                                                                                                  \n",
            " D40b_3 (Dense)                 (None, 40)           160         ['concat_2[0][0]']               \n",
            "                                                                                                  \n",
            " sci_activation_4 (SciActivatio  (None, 40)          0           ['D40b_3[0][0]']                 \n",
            " n)                                                                                               \n",
            "                                                                                                  \n",
            " branch_out (Field)             (None, 1)            41          ['sci_activation_4[0][0]']       \n",
            "                                                                                                  \n",
            " x (InputLayer)                 [(None, 1)]          0           []                               \n",
            "                                                                                                  \n",
            " dot (Lambda)                   (None, 1)            0           ['branch_out[0][0]']             \n",
            "                                                                                                  \n",
            "==================================================================================================\n",
            "Total params: 201\n",
            "Trainable params: 201\n",
            "Non-trainable params: 0\n",
            "__________________________________________________________________________________________________\n"
          ]
        }
      ]
    }
  ]
}